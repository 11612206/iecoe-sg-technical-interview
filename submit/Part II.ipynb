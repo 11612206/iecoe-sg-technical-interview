{
  "nbformat": 4,
  "nbformat_minor": 0,
  "metadata": {
    "colab": {
      "name": "Untitled0.ipynb",
      "provenance": [],
      "collapsed_sections": []
    },
    "kernelspec": {
      "name": "python3",
      "display_name": "Python 3"
    },
    "language_info": {
      "name": "python"
    }
  },
  "cells": [
    {
      "cell_type": "markdown",
      "metadata": {
        "id": "lCUepHm8Vha-"
      },
      "source": [
        "## Catalog\n",
        "<a href=#p0>0. Introduction</a>\n",
        "\n",
        "<a href=#p1>1. Import Packages and Import Data</a>\n",
        "\n",
        "<a href=#p2>2. EDA</a>\n",
        "\n",
        "<a href=#p3>3. Text Cleaning </a>\n",
        "\n",
        "<a href=#p4>4. Strategy 1: TF-IDF weighting + Boosting (XGBoost, LightGBM) and Bayes </a>\n",
        "\n",
        "<a href=#p5>5. Strategy 2: GloVe Embedding + Neural Networks (LSTM)\n",
        "\n",
        "<a href=#p6>6. Summary"
      ]
    },
    {
      "cell_type": "markdown",
      "metadata": {
        "id": "wBBKHFh1Vl3A"
      },
      "source": [
        "<a name='p0' /></a>\n",
        "## 0. Introduction\n",
        "In this notebook, EDA and Data cleaning are carried out firstly. They do have some hints for the coming model construction process.\n",
        "\n",
        "TF-IDF and GloVe are utilised for word vectorization, and XGB, LGB, and LSTM are adopted as algorithms.\n",
        "\n",
        "Specifically, since LSTM model requires large amount of CPU and GPU resources, this notebook is carried on Google Colab to expedite the overall processing speed."
      ]
    },
    {
      "cell_type": "markdown",
      "metadata": {
        "id": "nAjUf_2YV8uu"
      },
      "source": [
        "<a name='p1' /></a>\n",
        "## 1. Import Packages and Import Data\n",
        "\n",
        "This part mainly contains: 1. connections between Google Colab and Google Drive, 2. import packages, 3. import data"
      ]
    },
    {
      "cell_type": "code",
      "metadata": {
        "colab": {
          "base_uri": "https://localhost:8080/"
        },
        "id": "ywHVdLG-KLrj",
        "outputId": "fde49f38-e7cd-4f6a-d5c1-7615b024ef6a"
      },
      "source": [
        "# This block is about building connections between Google Colab and personal google drive.\n",
        "# Taken and amended from this stackoverflow answer: https://stackoverflow.com/questions/47744131/colaboratory-can-i-access-to-my-google-drive-folder-and-file\n",
        "# I give full credits to the author.\n",
        "\n",
        "!apt-get install -y -qq software-properties-common python-software-properties module-init-tools\n",
        "!add-apt-repository -y ppa:alessandro-strada/ppa 2>&1 > /dev/null\n",
        "!apt-get update -qq 2>&1 > /dev/null\n",
        "!apt-get -y install -qq google-drive-ocamlfuse fuse\n",
        "from google.colab import auth\n",
        "auth.authenticate_user()\n",
        "from oauth2client.client import GoogleCredentials\n",
        "creds = GoogleCredentials.get_application_default()\n",
        "import getpass\n",
        "!google-drive-ocamlfuse -headless -id={creds.client_id} -secret={creds.client_secret} < /dev/null 2>&1 | grep URL\n",
        "vcode = getpass.getpass()\n",
        "!echo {vcode} | google-drive-ocamlfuse -headless -id={creds.client_id} -secret={creds.client_secret}\n",
        "\n",
        "!mkdir -p drive\n",
        "!google-drive-ocamlfuse drive"
      ],
      "execution_count": 1,
      "outputs": [
        {
          "output_type": "stream",
          "text": [
            "E: Package 'python-software-properties' has no installation candidate\n",
            "Selecting previously unselected package google-drive-ocamlfuse.\n",
            "(Reading database ... 160980 files and directories currently installed.)\n",
            "Preparing to unpack .../google-drive-ocamlfuse_0.7.24-0ubuntu1~ubuntu18.04.1_amd64.deb ...\n",
            "Unpacking google-drive-ocamlfuse (0.7.24-0ubuntu1~ubuntu18.04.1) ...\n",
            "Setting up google-drive-ocamlfuse (0.7.24-0ubuntu1~ubuntu18.04.1) ...\n",
            "Processing triggers for man-db (2.8.3-2ubuntu0.1) ...\n",
            "Please, open the following URL in a web browser: https://accounts.google.com/o/oauth2/auth?client_id=32555940559.apps.googleusercontent.com&redirect_uri=urn%3Aietf%3Awg%3Aoauth%3A2.0%3Aoob&scope=https%3A%2F%2Fwww.googleapis.com%2Fauth%2Fdrive&response_type=code&access_type=offline&approval_prompt=force\n",
            "··········\n",
            "Please, open the following URL in a web browser: https://accounts.google.com/o/oauth2/auth?client_id=32555940559.apps.googleusercontent.com&redirect_uri=urn%3Aietf%3Awg%3Aoauth%3A2.0%3Aoob&scope=https%3A%2F%2Fwww.googleapis.com%2Fauth%2Fdrive&response_type=code&access_type=offline&approval_prompt=force\n",
            "Please enter the verification code: Access token retrieved correctly.\n"
          ],
          "name": "stdout"
        }
      ]
    },
    {
      "cell_type": "code",
      "metadata": {
        "id": "cagR_AGwKeON"
      },
      "source": [
        "import os\n",
        "os.chdir(\"drive/Colab Notebooks/NLP\") # in my personal google drive, I built a separate folder called \"NLP\" to store all related documents"
      ],
      "execution_count": 2,
      "outputs": []
    },
    {
      "cell_type": "code",
      "metadata": {
        "id": "mP9jrM2DKfx8"
      },
      "source": [
        "# libraries involved\n",
        "\n",
        "import numpy as np \n",
        "import pandas as pd\n",
        "import re,string\n",
        "import os\n",
        "from datetime import datetime\n",
        "from numpy import asarray\n",
        "\n",
        "# Visualization Libs\n",
        "import seaborn as sns\n",
        "import matplotlib.pyplot as plt\n",
        "\n",
        "# NLP Libs\n",
        "import nltk\n",
        "from nltk.corpus import stopwords\n",
        "from tensorflow.keras.preprocessing.text import Tokenizer\n",
        "from nltk.stem.porter import PorterStemmer\n",
        "from bs4 import BeautifulSoup\n",
        "from keras.preprocessing import text, sequence\n",
        "from sklearn.feature_extraction.text import TfidfVectorizer\n",
        "\n",
        "# Additional Libs\n",
        "from sklearn.metrics import f1_score, accuracy_score\n",
        "from sklearn.model_selection import train_test_split\n",
        "from string import punctuation\n",
        "\n",
        "# Deep Learning Libs\n",
        "import keras\n",
        "from keras.models import Sequential\n",
        "from keras.layers import Dense,Embedding,LSTM,Dropout\n",
        "from keras.callbacks import EarlyStopping\n",
        "import tensorflow as tf\n",
        "\n",
        "# other algorithms\n",
        "from xgboost import XGBClassifier\n",
        "from lightgbm import LGBMClassifier"
      ],
      "execution_count": 3,
      "outputs": []
    },
    {
      "cell_type": "code",
      "metadata": {
        "id": "hmwWNsr7KlAD"
      },
      "source": [
        "# import data\n",
        "true_df = pd.read_csv(\"True.csv\")\n",
        "fake_df = pd.read_csv(\"Fake.csv\")"
      ],
      "execution_count": 4,
      "outputs": []
    },
    {
      "cell_type": "code",
      "metadata": {
        "id": "tz3Ur3cAKoqA"
      },
      "source": [
        "# create a new column to encode the label\n",
        "true_df['fake'] = 0\n",
        "fake_df['fake'] = 1"
      ],
      "execution_count": 5,
      "outputs": []
    },
    {
      "cell_type": "code",
      "metadata": {
        "id": "6sWfdp33KrXL"
      },
      "source": [
        "mydf = pd.concat([true_df,fake_df],axis=0)\n",
        "mydf['full_text'] = mydf['title'] + \" \" + mydf['text'] # the text I'm going to analyse is the combination of text and title"
      ],
      "execution_count": 6,
      "outputs": []
    },
    {
      "cell_type": "markdown",
      "metadata": {
        "id": "u4K41RxNWHY5"
      },
      "source": [
        "<a name='p2' /></a>\n",
        "## 2. EDA\n",
        "\n",
        "EDA is carried out basically for the following purpose: 1. check the class distribution (i.e. balance situation) of the dataset, 2. Check whether there should be some columns/features should be abolished which may act as confounding factors"
      ]
    },
    {
      "cell_type": "code",
      "metadata": {
        "colab": {
          "base_uri": "https://localhost:8080/",
          "height": 622
        },
        "id": "S6YQkoiQK53j",
        "outputId": "1f7882b4-0e50-4eeb-ebad-e76fe594dfdc"
      },
      "source": [
        "# check the sample distribution across classes\n",
        "plt.figure(figsize=(16,9))\n",
        "sns.countplot(mydf['fake'])\n",
        "plt.title('Total Fake and Real News Articles', fontsize=24)\n",
        "plt.ylabel('Total', fontsize=16)\n",
        "plt.xlabel('')\n",
        "plt.xticks([0, 1], ['True', 'Fake'], fontsize=16)\n",
        "plt.show()"
      ],
      "execution_count": 7,
      "outputs": [
        {
          "output_type": "stream",
          "text": [
            "/usr/local/lib/python3.7/dist-packages/seaborn/_decorators.py:43: FutureWarning: Pass the following variable as a keyword arg: x. From version 0.12, the only valid positional argument will be `data`, and passing other arguments without an explicit keyword will result in an error or misinterpretation.\n",
            "  FutureWarning\n"
          ],
          "name": "stderr"
        },
        {
          "output_type": "display_data",
          "data": {
            "image/png": "[encoded data removed]",
            "text/plain": [
              "<Figure size 1152x648 with 1 Axes>"
            ]
          },
          "metadata": {
            "tags": [],
            "needs_background": "light"
          }
        }
      ]
    },
    {
      "cell_type": "code",
      "metadata": {
        "colab": {
          "base_uri": "https://localhost:8080/"
        },
        "id": "lDr1ndSPLj4H",
        "outputId": "684105d9-82c9-439a-f372-da797b76ec07"
      },
      "source": [
        "# check whether any missing value exists\n",
        "mydf.isna().sum()"
      ],
      "execution_count": 8,
      "outputs": [
        {
          "output_type": "execute_result",
          "data": {
            "text/plain": [
              "title        0\n",
              "text         0\n",
              "subject      0\n",
              "date         0\n",
              "fake         0\n",
              "full_text    0\n",
              "dtype: int64"
            ]
          },
          "metadata": {
            "tags": []
          },
          "execution_count": 8
        }
      ]
    },
    {
      "cell_type": "code",
      "metadata": {
        "colab": {
          "base_uri": "https://localhost:8080/"
        },
        "id": "0Or97IL4LvKU",
        "outputId": "37704939-78eb-4386-f3ca-f45045c434b0"
      },
      "source": [
        "mydf.info()"
      ],
      "execution_count": 9,
      "outputs": [
        {
          "output_type": "stream",
          "text": [
            "<class 'pandas.core.frame.DataFrame'>\n",
            "Int64Index: 44898 entries, 0 to 23480\n",
            "Data columns (total 6 columns):\n",
            " #   Column     Non-Null Count  Dtype \n",
            "---  ------     --------------  ----- \n",
            " 0   title      44898 non-null  object\n",
            " 1   text       44898 non-null  object\n",
            " 2   subject    44898 non-null  object\n",
            " 3   date       44898 non-null  object\n",
            " 4   fake       44898 non-null  int64 \n",
            " 5   full_text  44898 non-null  object\n",
            "dtypes: int64(1), object(5)\n",
            "memory usage: 3.6+ MB\n"
          ],
          "name": "stdout"
        }
      ]
    },
    {
      "cell_type": "code",
      "metadata": {
        "colab": {
          "base_uri": "https://localhost:8080/",
          "height": 565
        },
        "id": "-LlRQhMvLzg-",
        "outputId": "7713082f-22c8-4068-c13d-9d32ee0c83ec"
      },
      "source": [
        "# check the sample distribution across different types in true/fake news\n",
        "plt.figure(figsize=(16,9))\n",
        "sns.countplot(x='subject', hue='fake', data=mydf)\n",
        "plt.title('Article Subjects By Type', fontsize=24)\n",
        "plt.ylabel('Total', fontsize=16)\n",
        "plt.xlabel('')\n",
        "plt.xticks(fontsize=12)\n",
        "plt.legend(['Real', 'Fake'])\n",
        "plt.show()"
      ],
      "execution_count": 11,
      "outputs": [
        {
          "output_type": "display_data",
          "data": {
            "image/png": "[encoded data removed]",
            "text/plain": [
              "<Figure size 1152x648 with 1 Axes>"
            ]
          },
          "metadata": {
            "tags": [],
            "needs_background": "light"
          }
        }
      ]
    },
    {
      "cell_type": "markdown",
      "metadata": {
        "id": "zaVRRGr_YCXX"
      },
      "source": [
        "Summary:\n",
        "\n",
        "1.   There are 44,898 samples intotal, and the sample is **balanced**. True:False=0.91:1. Therefore, **no undersampling or oversampling techniques** are required.\n",
        "2.   No missing values\n",
        "3.  It is necessary to **rule out \"subject\" feature** in any further models. Since it can be perceived that as long as news are in the same subject, they have the same class. There is no heterogeneity observed."
      ]
    },
    {
      "cell_type": "markdown",
      "metadata": {
        "id": "735evnVIWJhi"
      },
      "source": [
        "<a name='p3' /></a>\n",
        "## 3. Text Cleaning\n",
        "\n",
        "This part mainly contains: \n",
        "1. data cleaning\n",
        "2.     set random seed\n",
        "3.  build time function to monitor time consumption"
      ]
    },
    {
      "cell_type": "code",
      "metadata": {
        "colab": {
          "base_uri": "https://localhost:8080/"
        },
        "id": "jPnA6CEAK14z",
        "outputId": "774a320c-0901-4fa7-e6e1-c1d6cee21c4c"
      },
      "source": [
        "# in this part, I combine stopwords and punctuations into one list (stop_punct), in order to remove them all at once later on\n",
        "nltk.download('stopwords')\n",
        "stop = set(stopwords.words('english'))\n",
        "punct = list(string.punctuation)\n",
        "stop_punct=stop.union(punct)"
      ],
      "execution_count": 12,
      "outputs": [
        {
          "output_type": "stream",
          "text": [
            "[nltk_data] Downloading package stopwords to /root/nltk_data...\n",
            "[nltk_data]   Unzipping corpora/stopwords.zip.\n"
          ],
          "name": "stdout"
        }
      ]
    },
    {
      "cell_type": "markdown",
      "metadata": {
        "id": "Xdm8GK7fapxI"
      },
      "source": [
        "Since during EDA, I've noticed that some texts are actually urls, and **even some texts are in html forms** instead of normal text. Therefore, I think the right order of text cleaning should be: \n",
        "1.   Extract text from HTML (if applicable)\n",
        "2.   Remove urls\n",
        "3.   Remove characters other than letters\n",
        "4. Convert all texts into lower case\n",
        "5. Remove stopwords and punctuations\n",
        "6. Stemming\n",
        "\n",
        "In my following code, each points has been encapsulated into one function. Particularly, 5 and 6 are combined into one functions.\n",
        "\n",
        "\n",
        "\n",
        "\n"
      ]
    },
    {
      "cell_type": "code",
      "metadata": {
        "id": "HlplZenNMexQ"
      },
      "source": [
        "ps = PorterStemmer()\n",
        "\n",
        "# Use beautiful soup to extract text from html document \n",
        "def strip_html(text):\n",
        "    soup = BeautifulSoup(text, \"html.parser\")\n",
        "    return soup.get_text()\n",
        "\n",
        "# Removing URLs\n",
        "def remove_urls(text):\n",
        "    return re.sub(r'http\\S+|www\\.\\S+', '', text)\n",
        "\n",
        "# Removing the stopwords and punctuations from text, and also do stemming\n",
        "def remove_stoppunct_stem(text):\n",
        "    final_text = []\n",
        "    for i in text.split():\n",
        "        i_strip=i.strip()\n",
        "        if i_strip not in stop_punct:\n",
        "            final_text.append(ps.stem(i_strip))\n",
        "            \n",
        "    output_text=\" \".join(final_text)\n",
        "    corpus.append(output_text)\n",
        "    return output_text\n",
        "\n",
        "# function to clean the text\n",
        "def clean_text(text):\n",
        "    text = strip_html(text)\n",
        "    text = remove_urls(text)\n",
        "    text = re.sub('[^a-zA-Z]', ' ',text)\n",
        "    text = text.lower()\n",
        "    text = remove_stoppunct_stem(text)\n",
        "    return text"
      ],
      "execution_count": 13,
      "outputs": []
    },
    {
      "cell_type": "code",
      "metadata": {
        "id": "s0ugti5WMiZ4"
      },
      "source": [
        "# I constructed a time function to see how much time cost for some operations\n",
        "def timer(start_time=None):\n",
        "    if not start_time:\n",
        "        start_time = datetime.now()\n",
        "        return start_time\n",
        "    elif start_time:\n",
        "        thour, temp_sec = divmod((datetime.now() - start_time).total_seconds(), 3600)\n",
        "        tmin, tsec = divmod(temp_sec, 60)\n",
        "        print('\\n Time taken: %i hours %i minutes and %s seconds.' % (thour, tmin, round(tsec, 2)))"
      ],
      "execution_count": 14,
      "outputs": []
    },
    {
      "cell_type": "code",
      "metadata": {
        "colab": {
          "base_uri": "https://localhost:8080/"
        },
        "id": "MxbEIz_3Mln4",
        "outputId": "51a00888-d780-41d2-f84d-58490a540123"
      },
      "source": [
        "corpus=[] # to store all the corpus\n",
        "\n",
        "start_time_0 = timer(None)\n",
        "mydf['full_text_clean']=mydf['full_text'].apply(clean_text) # full_text_clean is the clean version of text\n",
        "timer(start_time_0)"
      ],
      "execution_count": 15,
      "outputs": [
        {
          "output_type": "stream",
          "text": [
            "\n",
            " Time taken: 0 hours 4 minutes and 15.19 seconds.\n"
          ],
          "name": "stdout"
        }
      ]
    },
    {
      "cell_type": "code",
      "metadata": {
        "id": "PdwhzhynMmfd"
      },
      "source": [
        "seed=1 # set random seed to ensure repetability"
      ],
      "execution_count": 16,
      "outputs": []
    },
    {
      "cell_type": "code",
      "metadata": {
        "id": "G2cmtfQNMqRL"
      },
      "source": [
        "X = mydf['full_text_clean']\n",
        "y = mydf['fake']\n",
        "\n",
        "X_train, X_test, y_train, y_test = train_test_split(X, y, train_size=0.7,stratify=y, random_state=seed) # train test split"
      ],
      "execution_count": 17,
      "outputs": []
    },
    {
      "cell_type": "markdown",
      "metadata": {
        "id": "nqRfRYvUawlY"
      },
      "source": [
        "<a name='p4' /></a>\n",
        "## 4. Strategy 1: TF-IDF weighting + Boosting (XGBoost, LightGBM) and Bayes\n",
        "\n",
        "This part mainly contains: \n",
        "1. TF-IDF vectorization (with some parameters imposed to limit the size)\n",
        "2. XGB and LGBM based on TF-IDF"
      ]
    },
    {
      "cell_type": "code",
      "metadata": {
        "colab": {
          "base_uri": "https://localhost:8080/"
        },
        "id": "_2udaPKZMr_U",
        "outputId": "9dc0126e-6a22-40e5-8773-6f77b04ea2e1"
      },
      "source": [
        "# Create the TF-IDF vectorizer\n",
        "# bigrams and trigrams are adopted. Unigram is abolished since it might have not so much functions. \n",
        "# min_df and max_df: To ignore terms that have a document frequency lower than the min_df or greater than max_df.\n",
        "tfidf=TfidfVectorizer(min_df=0.01,max_df=0.85,use_idf=True,ngram_range=(2,3))\n",
        "\n",
        "# Transform train and test data\n",
        "start_time_1 = timer(None) \n",
        "X_train_tfidf=tfidf.fit_transform(X_train) # only train data is used to fit the vectorizer\n",
        "timer(start_time_1) \n",
        "\n",
        "# Transform the test dataset\n",
        "start_time_2 = timer(None)\n",
        "X_test_tfidf=tfidf.transform(X_test)\n",
        "timer(start_time_2)\n",
        "\n",
        "# covert to array to fit for algorithm's input requirements\n",
        "X_train_tfidf.toarray() \n",
        "X_test_tfidf.toarray()"
      ],
      "execution_count": 18,
      "outputs": [
        {
          "output_type": "stream",
          "text": [
            "\n",
            " Time taken: 0 hours 1 minutes and 27.02 seconds.\n",
            "\n",
            " Time taken: 0 hours 0 minutes and 6.68 seconds.\n"
          ],
          "name": "stdout"
        },
        {
          "output_type": "execute_result",
          "data": {
            "text/plain": [
              "array([[0., 0., 0., ..., 0., 0., 0.],\n",
              "       [0., 0., 0., ..., 0., 0., 0.],\n",
              "       [0., 0., 0., ..., 0., 0., 0.],\n",
              "       ...,\n",
              "       [0., 0., 0., ..., 0., 0., 0.],\n",
              "       [0., 0., 0., ..., 0., 0., 0.],\n",
              "       [0., 0., 0., ..., 0., 0., 0.]])"
            ]
          },
          "metadata": {
            "tags": []
          },
          "execution_count": 18
        }
      ]
    },
    {
      "cell_type": "code",
      "metadata": {
        "colab": {
          "base_uri": "https://localhost:8080/"
        },
        "id": "0zfCISn1Munh",
        "outputId": "89770907-7176-482e-9c36-d4fe09f452a8"
      },
      "source": [
        "xgb = XGBClassifier(random_state=seed) # here no hyperparameter tuning is carried out according to the instruction\n",
        "start_time_3 = timer(None)\n",
        "xgb.fit(X_train_tfidf, y_train)\n",
        "timer(start_time_3)\n",
        "y_xgb_pred = xgb.predict(X_test_tfidf)\n",
        "print(\"XGBoost F1 and Accuracy Scores : \\n\")\n",
        "print (\"F1 score {:.4}\".format(f1_score(y_test, y_xgb_pred)))\n",
        "print (\"Accuracy score {:.4}%\".format(accuracy_score(y_test, y_xgb_pred)*100) )"
      ],
      "execution_count": 21,
      "outputs": [
        {
          "output_type": "stream",
          "text": [
            "\n",
            " Time taken: 0 hours 0 minutes and 5.72 seconds.\n",
            "XGBoost F1 and Accuracy Scores : \n",
            "\n",
            "F1 score 0.9314\n",
            "Accuracy score 92.58%\n"
          ],
          "name": "stdout"
        }
      ]
    },
    {
      "cell_type": "code",
      "metadata": {
        "colab": {
          "base_uri": "https://localhost:8080/"
        },
        "id": "nZk7NHIkM5hv",
        "outputId": "5000157a-cee2-4cf7-d9e7-4dbce48bc016"
      },
      "source": [
        "lgbm = LGBMClassifier(random_state=seed)\n",
        "start_time_6 = timer(None)\n",
        "lgbm.fit(X_train_tfidf, y_train)\n",
        "timer(start_time_6)\n",
        "y_lgbm_pred = lgbm.predict(X_test_tfidf)\n",
        "print(\"LGBM F1 and Accuracy Scores : \\n\")\n",
        "print (\"F1 score {:.4}\".format(f1_score(y_test, y_lgbm_pred)))\n",
        "print (\"Accuracy score {:.4}%\".format(accuracy_score(y_test, y_lgbm_pred)*100) )"
      ],
      "execution_count": 22,
      "outputs": [
        {
          "output_type": "stream",
          "text": [
            "\n",
            " Time taken: 0 hours 0 minutes and 13.64 seconds.\n",
            "LGBM F1 and Accuracy Scores : \n",
            "\n",
            "F1 score 0.965\n",
            "Accuracy score 96.31%\n"
          ],
          "name": "stdout"
        }
      ]
    },
    {
      "cell_type": "markdown",
      "metadata": {
        "id": "NOXkgFOlbEsE"
      },
      "source": [
        "<a name='p5' /></a>\n",
        "## 5. Strategy 2: GloVe Embedding + Neural Networks (LSTM)\n",
        "\n",
        "This part mainly contains: \n",
        "1. Word Tokenization and **padding (to fit for the uniform length requirement of sequence models like LSTM)**\n",
        "2. **Import** GloVe **and fit** GloVe in this project to generate final embedding matrix \n",
        "3. Use GloVe embedding matrix to construct LSTM sequence model\n",
        "\n",
        "*Due to the long time running of LSTM model, I have intentionally control the magnitude of some parameters (e.g. epochs only 5) to limit the time consumed. "
      ]
    },
    {
      "cell_type": "code",
      "metadata": {
        "colab": {
          "base_uri": "https://localhost:8080/"
        },
        "id": "xoiK0okdNF5S",
        "outputId": "f7e546f7-ec15-48ba-9c26-32532912f097"
      },
      "source": [
        "max_features = 500 # select the vocabularies that ranks first 500 places. To get the most precise model, this parameter should be larger than 500\n",
        "max_len=1000\n",
        "\n",
        "start_time_4 = timer(None)\n",
        "tokenizer = Tokenizer(num_words=max_features) # create tokenizer\n",
        "tokenizer.fit_on_texts(X_train.values)\n",
        "\n",
        "# Padding the vectors of different lengths to the vectors with same length, i.e. max_len=1000\n",
        "tokenizer_train=tokenizer.texts_to_sequences(X_train)\n",
        "X_train_token=sequence.pad_sequences(tokenizer_train,maxlen=max_len)\n",
        "\n",
        "tokenizer_test=tokenizer.texts_to_sequences(X_test)\n",
        "X_test_token=sequence.pad_sequences(tokenizer_test,maxlen=max_len)\n",
        "timer(start_time_4)"
      ],
      "execution_count": 23,
      "outputs": [
        {
          "output_type": "stream",
          "text": [
            "\n",
            " Time taken: 0 hours 0 minutes and 13.01 seconds.\n"
          ],
          "name": "stdout"
        }
      ]
    },
    {
      "cell_type": "markdown",
      "metadata": {
        "id": "ntYTZ7TTb8Qj"
      },
      "source": [
        "GloVe is another efficient method to do vectorization apart from TF-IDF. I have self-downloaded the pre-trianed word vectors from [Stanford NLP GloVe website](https://nlp.stanford.edu/projects/glove/). Here I use the one with only 50 dimensions to expedite the training speed. However, 200d, 300d are definitely preferred to get the best model."
      ]
    },
    {
      "cell_type": "code",
      "metadata": {
        "colab": {
          "base_uri": "https://localhost:8080/"
        },
        "id": "J8qGSawONG1V",
        "outputId": "f5ca3033-6e93-4b5d-dff8-3beb293ef469"
      },
      "source": [
        "# This block is about importing and processing the GloVe document\n",
        "# Taken and amended from kaggle: https://www.kaggle.com/breenda/feature-engineering#Feature-Engineering-on-News-Body:\n",
        "# I give full credits to the author.\n",
        "embeddings_index = dict()\n",
        "start_time_5 = timer(None)\n",
        "f = open('glove.6B.50d.txt', encoding=\"utf8\") # utf-8 should be included to parse and open the document in the right way\n",
        "# this block is to load the whole embedding into memory, including each word and it's relative coefficients\n",
        "for line in f:\n",
        "    values = line.split()\n",
        "    word = values[0]\n",
        "    coefs = asarray(values[1:], dtype='float32')\n",
        "    embeddings_index[word] = coefs\n",
        "f.close()\n",
        "print('Loaded %s word vectors.' % len(embeddings_index))\n",
        "timer(start_time_5)"
      ],
      "execution_count": 24,
      "outputs": [
        {
          "output_type": "stream",
          "text": [
            "Loaded 400000 word vectors.\n",
            "\n",
            " Time taken: 0 hours 0 minutes and 10.21 seconds.\n"
          ],
          "name": "stdout"
        }
      ]
    },
    {
      "cell_type": "code",
      "metadata": {
        "id": "QD7_V3BYNJ5G"
      },
      "source": [
        "# create a weight matrix for words in training corpus\n",
        "\n",
        "# here begin to officially create the embedding matrix\n",
        "\n",
        "# Here, the total length of the text-based dictionary is Len (word_index). \n",
        "# However, since the max_feature is used for filtering, the final dictionary used is actually determined by the minimal between max_feature and Len (word_index)\n",
        "word_index = tokenizer.word_index\n",
        "nb_words = min(max_features, len(word_index)) \n",
        "\n",
        "embedding_matrix = np.zeros((nb_words, 50)) # the embedding dimension is 50d since I'm using 50d version\n",
        "for word, i in word_index.items():\n",
        "    if i >= max_features: continue # If i is greater than max_feature, the word is out of the max_feature range and does not need to be processed\n",
        "    embedding_vector = embeddings_index.get(word)\n",
        "    if embedding_vector is not None: embedding_matrix[i] = embedding_vector"
      ],
      "execution_count": 25,
      "outputs": []
    },
    {
      "cell_type": "code",
      "metadata": {
        "colab": {
          "base_uri": "https://localhost:8080/"
        },
        "id": "Neq1I5gpNLy3",
        "outputId": "968e3843-cb96-4446-bc89-de25d00549ca"
      },
      "source": [
        "# now define the LSTM model\n",
        "model = Sequential()\n",
        "# For embedding layer, \"trainable\" denotes whether the weight of that layer can be changed. \n",
        "# Since here the weight of the embedding layer is actually from pre-trained GloVe model, so I set trainable attribute set to False\n",
        "model.add(Embedding(nb_words, 50, weights=[embedding_matrix], input_length=max_len, trainable=False))\n",
        "model.add(Dropout(0.3)) # dropout to prevent overfitting \n",
        "model.add(LSTM(100))\n",
        "model.add(Dropout(0.3))\n",
        "model.add(Dense(1,activation='sigmoid')) # sigmoid is to control the range of output between [0,1]\n",
        "# compile the model\n",
        "model.compile(optimizer='adam', loss='binary_crossentropy', metrics=['accuracy'])\n",
        "# summarize the model\n",
        "print(model.summary())"
      ],
      "execution_count": 26,
      "outputs": [
        {
          "output_type": "stream",
          "text": [
            "Model: \"sequential\"\n",
            "_________________________________________________________________\n",
            "Layer (type)                 Output Shape              Param #   \n",
            "=================================================================\n",
            "embedding (Embedding)        (None, 1000, 50)          25000     \n",
            "_________________________________________________________________\n",
            "dropout (Dropout)            (None, 1000, 50)          0         \n",
            "_________________________________________________________________\n",
            "lstm (LSTM)                  (None, 100)               60400     \n",
            "_________________________________________________________________\n",
            "dropout_1 (Dropout)          (None, 100)               0         \n",
            "_________________________________________________________________\n",
            "dense (Dense)                (None, 1)                 101       \n",
            "=================================================================\n",
            "Total params: 85,501\n",
            "Trainable params: 60,501\n",
            "Non-trainable params: 25,000\n",
            "_________________________________________________________________\n",
            "None\n"
          ],
          "name": "stdout"
        }
      ]
    },
    {
      "cell_type": "code",
      "metadata": {
        "colab": {
          "base_uri": "https://localhost:8080/"
        },
        "id": "hLIn9U3yNNii",
        "outputId": "e0a6a508-7c5e-4be2-bf2a-517bc931a06d"
      },
      "source": [
        "# fit the model\n",
        "# here I've applied earlystopping technique in order to prevent overfitting as well as to save the training time.\n",
        "monitor=EarlyStopping(monitor='val_loss',patience=3,verbose=1,restore_best_weights=True)\n",
        "start_time_7 = timer(None)\n",
        "model.fit(X_train_token, y_train, epochs=5, verbose=1,callbacks=[monitor],validation_data=(X_test_token, y_test))\n",
        "timer(start_time_7)"
      ],
      "execution_count": 27,
      "outputs": [
        {
          "output_type": "stream",
          "text": [
            "Epoch 1/5\n",
            "983/983 [==============================] - 765s 775ms/step - loss: 0.3126 - accuracy: 0.8710 - val_loss: 0.1952 - val_accuracy: 0.9284\n",
            "Epoch 2/5\n",
            "983/983 [==============================] - 833s 847ms/step - loss: 0.2132 - accuracy: 0.9232 - val_loss: 0.0737 - val_accuracy: 0.9796\n",
            "Epoch 3/5\n",
            "983/983 [==============================] - 832s 847ms/step - loss: 0.2374 - accuracy: 0.9086 - val_loss: 0.1859 - val_accuracy: 0.9380\n",
            "Epoch 4/5\n",
            "983/983 [==============================] - 834s 849ms/step - loss: 0.1886 - accuracy: 0.9342 - val_loss: 0.0549 - val_accuracy: 0.9864\n",
            "Epoch 5/5\n",
            "983/983 [==============================] - 829s 844ms/step - loss: 0.0764 - accuracy: 0.9788 - val_loss: 0.0196 - val_accuracy: 0.9953\n",
            "\n",
            " Time taken: 1 hours 8 minutes and 14.27 seconds.\n"
          ],
          "name": "stdout"
        }
      ]
    },
    {
      "cell_type": "code",
      "metadata": {
        "colab": {
          "base_uri": "https://localhost:8080/"
        },
        "id": "m0466HhvPZ_M",
        "outputId": "14711589-309d-4c4b-d150-97ae9c48f5b8"
      },
      "source": [
        "model.save(r\"LSTM_model\") # save the model"
      ],
      "execution_count": 28,
      "outputs": [
        {
          "output_type": "stream",
          "text": [
            "WARNING:absl:Found untraced functions such as lstm_cell_layer_call_fn, lstm_cell_layer_call_and_return_conditional_losses, lstm_cell_layer_call_fn, lstm_cell_layer_call_and_return_conditional_losses, lstm_cell_layer_call_and_return_conditional_losses while saving (showing 5 of 5). These functions will not be directly callable after loading.\n",
            "WARNING:absl:Found untraced functions such as lstm_cell_layer_call_fn, lstm_cell_layer_call_and_return_conditional_losses, lstm_cell_layer_call_fn, lstm_cell_layer_call_and_return_conditional_losses, lstm_cell_layer_call_and_return_conditional_losses while saving (showing 5 of 5). These functions will not be directly callable after loading.\n"
          ],
          "name": "stderr"
        },
        {
          "output_type": "stream",
          "text": [
            "INFO:tensorflow:Assets written to: LSTM_model/assets\n"
          ],
          "name": "stdout"
        },
        {
          "output_type": "stream",
          "text": [
            "INFO:tensorflow:Assets written to: LSTM_model/assets\n"
          ],
          "name": "stderr"
        }
      ]
    },
    {
      "cell_type": "code",
      "metadata": {
        "colab": {
          "base_uri": "https://localhost:8080/"
        },
        "id": "Tgy37RMMNRUk",
        "outputId": "d10e58c6-6e24-4fe7-e71e-101a6b92ae6e"
      },
      "source": [
        "y_lstm_pred = model.predict_classes(X_test_token)\n",
        "print(\"LSTM F1 and Accuracy Scores : \\n\")\n",
        "print (\"F1 score {:.4}\".format(f1_score(y_test, y_lstm_pred)))\n",
        "print (\"Accuracy score {:.4}%\".format(accuracy_score(y_test, y_lstm_pred)*100) )"
      ],
      "execution_count": 30,
      "outputs": [
        {
          "output_type": "stream",
          "text": [
            "/usr/local/lib/python3.7/dist-packages/tensorflow/python/keras/engine/sequential.py:450: UserWarning: `model.predict_classes()` is deprecated and will be removed after 2021-01-01. Please use instead:* `np.argmax(model.predict(x), axis=-1)`,   if your model does multi-class classification   (e.g. if it uses a `softmax` last-layer activation).* `(model.predict(x) > 0.5).astype(\"int32\")`,   if your model does binary classification   (e.g. if it uses a `sigmoid` last-layer activation).\n",
            "  warnings.warn('`model.predict_classes()` is deprecated and '\n"
          ],
          "name": "stderr"
        },
        {
          "output_type": "stream",
          "text": [
            "LSTM F1 and Accuracy Scores : \n",
            "\n",
            "F1 score 0.9955\n",
            "Accuracy score 99.53%\n"
          ],
          "name": "stdout"
        }
      ]
    },
    {
      "cell_type": "markdown",
      "metadata": {
        "id": "-ol0IeircBrx"
      },
      "source": [
        "<a name='p6' /></a>\n",
        "## 6. Summary\n",
        "1. This dataset does have some characteristics that are important for constructing the model. For example, need to deal with html documents and urls, the subject feature is actually useless etc.\n",
        "\n",
        "2. Reasons to select TF-IDF and GloVe:\n",
        "\n",
        "\n",
        "> TF-IDF considers both term frequency in the document (TF) and also the rarity (or importance) of term in the whole corpus (IDF). It can be calculated very quickly and in a more reasonable way.\n",
        "\n",
        "\n",
        "> One biggest disadvantage of TF-IDF is that it fails to capture the context information. GloVe embedding as a sequence vectorization method is able to record the context information and input in sequence models like LSTM.\n",
        "\n",
        "3. Reasons to select Boosting and LSTM:\n",
        "\n",
        "\n",
        "> Boosting is able to get better model by learning from the faliures of previous classifiers and combine multiple classifiers to form a stronger one. \n",
        "\n",
        "I choose boosting methods (XGB and LGBM) to compete with LSTM is because I think it represents the best performance that **traditional** ML classifiers can achieve.\n",
        "> LSTM is better to handle sequence data like text without having the problem of gradient vanishing/exploidng like RNN. I choose it as a representation of NN. \n",
        "\n",
        "\n",
        "4. In terms of model assessment, I think it can be divided into the following parts:\n",
        "\n",
        "**Time consumption:** \n",
        "\n",
        "> LSTM (68 min. for only 5 epochs....) + GloVe vectorization (less than 1 min.) = 69 min.\n",
        "\n",
        "\n",
        "> TF-IDF (1.5 min.) + XGB (5s) + LGBM (13s) = 2 min. \n",
        "\n",
        "However, in my notebook some of the parameters have been controlled to save the time. It can be estimated that when practically carrying out a grid search for model tuning, time consumption of LSTM will be much larger than the other two.\n",
        "\n",
        "**Space used:** Obviously, since GloVe uses global information of the corpus, it takes more memories than TF-IDF. And LSTM also has much more parameters to be estimated than boosting methods.\n",
        "\n",
        "**Performance:**\n",
        "> F1: LSTM (0.9955) > LGBM (0.965) > XGB (0.9314)\n",
        "\n",
        "> Accuracy: LSTM (99.53%) > LGBM (96.31%) > XGB (92.58%)\n",
        "\n",
        "LSTM do perform better than traditional traditional boosting method. However, I think if we hyperparameter tuning is carried out, maybe boosting can also reach the same level.\n",
        "\n",
        "**In a nutshell,** for this specific case, TF-IDF + traditional boosting methods are better, because of short time consumption, limited memory space utilised, the acceptable performance"
      ]
    }
  ]
}