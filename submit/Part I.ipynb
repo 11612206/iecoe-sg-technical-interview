{
 "cells": [
  {
   "cell_type": "markdown",
   "metadata": {},
   "source": [
    "## Catalog\n",
    "\n",
    "<a href=#p0>0. Import Packages and Import Data</a>\n",
    "\n",
    "<a href=#p1>1. EDA</a>\n",
    "\n",
    "<a href=#p2>2. Data Processing (filtering and merging)</a>\n",
    "\n",
    "<a href=#p3>3. Save the result and check the correctness</a>"
   ]
  },
  {
   "cell_type": "markdown",
   "metadata": {},
   "source": [
    "<a name='p0' /></a>\n",
    "## 0. Import Packages and Import Data"
   ]
  },
  {
   "cell_type": "code",
   "execution_count": 1,
   "metadata": {},
   "outputs": [],
   "source": [
    "import pandas as pd\n",
    "import numpy as np"
   ]
  },
  {
   "cell_type": "code",
   "execution_count": 3,
   "metadata": {},
   "outputs": [],
   "source": [
    "cases_df=pd.read_pickle('..\\data\\df_cases_200906.gzip')\n",
    "label_df=pd.read_pickle('..\\data\\df_label_200906.gzip')"
   ]
  },
  {
   "cell_type": "markdown",
   "metadata": {},
   "source": [
    "<a name='p1' /></a>\n",
    "## 1. Exploratory Data Analysis (EDA)"
   ]
  },
  {
   "cell_type": "code",
   "execution_count": 4,
   "metadata": {},
   "outputs": [
    {
     "name": "stdout",
     "output_type": "stream",
     "text": [
      "There are 2069 records in case document.\n",
      "There are 1098 records in label document.\n",
      "There are 1098 unique caseid in case document.\n",
      "There are 1098 unique caseid in label document.\n"
     ]
    }
   ],
   "source": [
    "print('There are '+str(len(cases_df))+' records in case document.')\n",
    "print('There are '+str(len(label_df))+' records in label document.')\n",
    "print('There are '+str(len(cases_df['CaseId'].unique()))+' unique caseid in case document.')\n",
    "print('There are '+str(len(label_df['CaseId'].unique()))+' unique caseid in label document.')"
   ]
  },
  {
   "cell_type": "markdown",
   "metadata": {},
   "source": [
    "EDA proves that:\n",
    "    1. Since there is # of records difference between case and document, there exists some caseids which has multiple contracts.\n",
    "    2. Each caseid only has one label_1 and label_2 record, which double proves the statement in the readme file. \n",
    "    3. # of caseid both in case and label document are same. Therefore when joining cases with labels, \"left join\", \"inner join\",\"outer join\" and \"right join\" are equivalent."
   ]
  },
  {
   "cell_type": "markdown",
   "metadata": {},
   "source": [
    "<a name='p2' /></a>\n",
    "## 2. Data Processing (filtering and merging)"
   ]
  },
  {
   "cell_type": "code",
   "execution_count": 5,
   "metadata": {},
   "outputs": [
    {
     "name": "stderr",
     "output_type": "stream",
     "text": [
      "<ipython-input-5-f67536712698>:5: SettingWithCopyWarning: \n",
      "A value is trying to be set on a copy of a slice from a DataFrame.\n",
      "Try using .loc[row_indexer,col_indexer] = value instead\n",
      "\n",
      "See the caveats in the documentation: https://pandas.pydata.org/pandas-docs/stable/user_guide/indexing.html#returning-a-view-versus-a-copy\n",
      "  useful_cases_df['invalid'] = np.where((useful_cases_df['IsExecuted']==False) | (useful_cases_df['QualityScore']<0.81), True, False)\n",
      "<ipython-input-5-f67536712698>:10: SettingWithCopyWarning: \n",
      "A value is trying to be set on a copy of a slice from a DataFrame.\n",
      "Try using .loc[row_indexer,col_indexer] = value instead\n",
      "\n",
      "See the caveats in the documentation: https://pandas.pydata.org/pandas-docs/stable/user_guide/indexing.html#returning-a-view-versus-a-copy\n",
      "  valid_df['ValidFileNames'] = valid_df.groupby(['CaseId'])['FileName'].transform(lambda x : ', '.join(x)) # concate contract names\n",
      "<ipython-input-5-f67536712698>:11: SettingWithCopyWarning: \n",
      "A value is trying to be set on a copy of a slice from a DataFrame.\n",
      "Try using .loc[row_indexer,col_indexer] = value instead\n",
      "\n",
      "See the caveats in the documentation: https://pandas.pydata.org/pandas-docs/stable/user_guide/indexing.html#returning-a-view-versus-a-copy\n",
      "  valid_df['OcrText_concat'] = valid_df.groupby(['CaseId'])['OcrText'].transform(lambda x : ' '.join(x)) # concate ocrtext\n",
      "<ipython-input-5-f67536712698>:16: SettingWithCopyWarning: \n",
      "A value is trying to be set on a copy of a slice from a DataFrame.\n",
      "Try using .loc[row_indexer,col_indexer] = value instead\n",
      "\n",
      "See the caveats in the documentation: https://pandas.pydata.org/pandas-docs/stable/user_guide/indexing.html#returning-a-view-versus-a-copy\n",
      "  invalid_df['InvalidFileNames'] = invalid_df.groupby(['CaseId'])['FileName'].transform(lambda x : ', '.join(x)) # concat contract names\n"
     ]
    }
   ],
   "source": [
    "# select the columns in case document that will be used\n",
    "useful_cases_df=cases_df[['CaseId', 'FileName','IsExecuted', 'OcrText', 'QualityScore']]\n",
    "\n",
    "# label validity status for each contract record\n",
    "useful_cases_df['invalid'] = np.where((useful_cases_df['IsExecuted']==False) | (useful_cases_df['QualityScore']<0.81), True, False)\n",
    "\n",
    "# for valid contracts, the output contains the concated result of contract names and also the concated result of ocrtext\n",
    "\n",
    "valid_df=useful_cases_df.loc[(useful_cases_df['invalid']==False)] # filter out valid contracts\n",
    "valid_df['ValidFileNames'] = valid_df.groupby(['CaseId'])['FileName'].transform(lambda x : ', '.join(x)) # concate contract names\n",
    "valid_df['OcrText_concat'] = valid_df.groupby(['CaseId'])['OcrText'].transform(lambda x : ' '.join(x)) # concate ocrtext\n",
    "\n",
    "# for invalid contracts, the output contains the concated result of contract names\n",
    "\n",
    "invalid_df=useful_cases_df.loc[(useful_cases_df['invalid']==True)] # filter out invalid contracts\n",
    "invalid_df['InvalidFileNames'] = invalid_df.groupby(['CaseId'])['FileName'].transform(lambda x : ', '.join(x)) # concat contract names\n",
    "\n",
    "# merge all the data together\n",
    "output_df=useful_cases_df[['CaseId']].merge(invalid_df[['CaseId','InvalidFileNames']],on='CaseId',how='left')\n",
    "output_df=output_df.merge(valid_df[['CaseId','ValidFileNames','OcrText_concat']],on='CaseId',how='left')\n",
    "#output_df=output_df.merge(label_df[['CaseId','label_1','label_2']],on='CaseId',how='left')\n",
    "output_df=label_df[['CaseId','label_1','label_2']].sort_values(by=['CaseId'],ignore_index=True).reset_index().merge(output_df,on='CaseId',how='left').set_index('index')\n",
    "\n",
    "output_df.rename(columns={\"OcrText_concat\": \"OcrText\"},inplace=True) # rename the output name of ocrtext\n",
    "\n",
    "# since duplicate records happen during joining, drop duplicates\n",
    "output_df.drop_duplicates(inplace=True)\n",
    "\n",
    "# formatting: the screenshot of the sample output indicates that all the contract names are in a list\n",
    "output_df['ValidFileNames'] = output_df['ValidFileNames'].str.split(\", \") \n",
    "output_df['InvalidFileNames'] = output_df['InvalidFileNames'].str.split(\", \") \n",
    "\n",
    "# formatting: the screenshot of the sample output indicates that all NANS values present as \"[]\" in filenames columns\n",
    "# and \" \" in ocrtext\n",
    "ocr_df=output_df['OcrText']\n",
    "ocr_df.fillna('',inplace=True)\n",
    "output_df.drop(columns=['OcrText'],inplace=True)\n",
    "output_df.apply(lambda s: s.fillna({i: [] for i in output_df.index}, inplace=True))\n",
    "output_df=pd.concat([output_df,ocr_df],axis=1)\n",
    "\n",
    "\n",
    "output_df = output_df[['CaseId','InvalidFileNames','ValidFileNames','OcrText','label_1','label_2']]"
   ]
  },
  {
   "cell_type": "code",
   "execution_count": 6,
   "metadata": {},
   "outputs": [
    {
     "data": {
      "text/html": [
       "<div>\n",
       "<style scoped>\n",
       "    .dataframe tbody tr th:only-of-type {\n",
       "        vertical-align: middle;\n",
       "    }\n",
       "\n",
       "    .dataframe tbody tr th {\n",
       "        vertical-align: top;\n",
       "    }\n",
       "\n",
       "    .dataframe thead th {\n",
       "        text-align: right;\n",
       "    }\n",
       "</style>\n",
       "<table border=\"1\" class=\"dataframe\">\n",
       "  <thead>\n",
       "    <tr style=\"text-align: right;\">\n",
       "      <th></th>\n",
       "      <th>CaseId</th>\n",
       "      <th>InvalidFileNames</th>\n",
       "      <th>ValidFileNames</th>\n",
       "      <th>OcrText</th>\n",
       "      <th>label_1</th>\n",
       "      <th>label_2</th>\n",
       "    </tr>\n",
       "    <tr>\n",
       "      <th>index</th>\n",
       "      <th></th>\n",
       "      <th></th>\n",
       "      <th></th>\n",
       "      <th></th>\n",
       "      <th></th>\n",
       "      <th></th>\n",
       "    </tr>\n",
       "  </thead>\n",
       "  <tbody>\n",
       "    <tr>\n",
       "      <th>1093</th>\n",
       "      <td>003061230659</td>\n",
       "      <td>[003061230659_72651667_Order form_978-0-661-06...</td>\n",
       "      <td>[]</td>\n",
       "      <td></td>\n",
       "      <td>True</td>\n",
       "      <td>False</td>\n",
       "    </tr>\n",
       "    <tr>\n",
       "      <th>1094</th>\n",
       "      <td>003061230710</td>\n",
       "      <td>[003061230710_80047544_other documents_978-1-0...</td>\n",
       "      <td>[]</td>\n",
       "      <td></td>\n",
       "      <td>True</td>\n",
       "      <td>False</td>\n",
       "    </tr>\n",
       "    <tr>\n",
       "      <th>1095</th>\n",
       "      <td>003061230728</td>\n",
       "      <td>[003061230728_79408066_Master contract_978-0-1...</td>\n",
       "      <td>[003061230728_74076581_Amendments_978-0-14-763...</td>\n",
       "      <td>None attorney spend tend miss appear.</td>\n",
       "      <td>True</td>\n",
       "      <td>False</td>\n",
       "    </tr>\n",
       "    <tr>\n",
       "      <th>1096</th>\n",
       "      <td>003061230748</td>\n",
       "      <td>[003061230748_65193716_Contract Documents_978-...</td>\n",
       "      <td>[]</td>\n",
       "      <td></td>\n",
       "      <td>True</td>\n",
       "      <td>False</td>\n",
       "    </tr>\n",
       "    <tr>\n",
       "      <th>1097</th>\n",
       "      <td>003061230757</td>\n",
       "      <td>[003061230757_84690982_other documents_978-0-1...</td>\n",
       "      <td>[003061230757_72990476_Contract Documents_978-...</td>\n",
       "      <td>Determine go network.</td>\n",
       "      <td>False</td>\n",
       "      <td>False</td>\n",
       "    </tr>\n",
       "  </tbody>\n",
       "</table>\n",
       "</div>"
      ],
      "text/plain": [
       "             CaseId                                   InvalidFileNames  \\\n",
       "index                                                                    \n",
       "1093   003061230659  [003061230659_72651667_Order form_978-0-661-06...   \n",
       "1094   003061230710  [003061230710_80047544_other documents_978-1-0...   \n",
       "1095   003061230728  [003061230728_79408066_Master contract_978-0-1...   \n",
       "1096   003061230748  [003061230748_65193716_Contract Documents_978-...   \n",
       "1097   003061230757  [003061230757_84690982_other documents_978-0-1...   \n",
       "\n",
       "                                          ValidFileNames  \\\n",
       "index                                                      \n",
       "1093                                                  []   \n",
       "1094                                                  []   \n",
       "1095   [003061230728_74076581_Amendments_978-0-14-763...   \n",
       "1096                                                  []   \n",
       "1097   [003061230757_72990476_Contract Documents_978-...   \n",
       "\n",
       "                                     OcrText label_1 label_2  \n",
       "index                                                         \n",
       "1093                                            True   False  \n",
       "1094                                            True   False  \n",
       "1095   None attorney spend tend miss appear.    True   False  \n",
       "1096                                            True   False  \n",
       "1097                   Determine go network.   False   False  "
      ]
     },
     "execution_count": 6,
     "metadata": {},
     "output_type": "execute_result"
    }
   ],
   "source": [
    "output_df.tail()"
   ]
  },
  {
   "cell_type": "markdown",
   "metadata": {},
   "source": [
    "<a name='p3' /></a>\n",
    "## 3. Save the result and check the correctness"
   ]
  },
  {
   "cell_type": "code",
   "execution_count": 7,
   "metadata": {},
   "outputs": [],
   "source": [
    "output_df.to_pickle(r\"df_final.gzip\")"
   ]
  },
  {
   "cell_type": "code",
   "execution_count": 8,
   "metadata": {},
   "outputs": [
    {
     "name": "stdout",
     "output_type": "stream",
     "text": [
      "1098\n"
     ]
    }
   ],
   "source": [
    "print(len(output_df))"
   ]
  },
  {
   "cell_type": "markdown",
   "metadata": {},
   "source": [
    "The output length is as expected."
   ]
  },
  {
   "cell_type": "code",
   "execution_count": 9,
   "metadata": {},
   "outputs": [],
   "source": [
    "# to SAP colleagues: the command to import the dataset\n",
    "new_df=pd.read_pickle(r'df_final.gzip')"
   ]
  },
  {
   "cell_type": "code",
   "execution_count": 10,
   "metadata": {},
   "outputs": [
    {
     "data": {
      "text/html": [
       "<div>\n",
       "<style scoped>\n",
       "    .dataframe tbody tr th:only-of-type {\n",
       "        vertical-align: middle;\n",
       "    }\n",
       "\n",
       "    .dataframe tbody tr th {\n",
       "        vertical-align: top;\n",
       "    }\n",
       "\n",
       "    .dataframe thead th {\n",
       "        text-align: right;\n",
       "    }\n",
       "</style>\n",
       "<table border=\"1\" class=\"dataframe\">\n",
       "  <thead>\n",
       "    <tr style=\"text-align: right;\">\n",
       "      <th></th>\n",
       "      <th>CaseId</th>\n",
       "      <th>InvalidFileNames</th>\n",
       "      <th>ValidFileNames</th>\n",
       "      <th>OcrText</th>\n",
       "      <th>label_1</th>\n",
       "      <th>label_2</th>\n",
       "    </tr>\n",
       "    <tr>\n",
       "      <th>index</th>\n",
       "      <th></th>\n",
       "      <th></th>\n",
       "      <th></th>\n",
       "      <th></th>\n",
       "      <th></th>\n",
       "      <th></th>\n",
       "    </tr>\n",
       "  </thead>\n",
       "  <tbody>\n",
       "    <tr>\n",
       "      <th>1093</th>\n",
       "      <td>003061230659</td>\n",
       "      <td>[003061230659_72651667_Order form_978-0-661-06...</td>\n",
       "      <td>[]</td>\n",
       "      <td></td>\n",
       "      <td>True</td>\n",
       "      <td>False</td>\n",
       "    </tr>\n",
       "    <tr>\n",
       "      <th>1094</th>\n",
       "      <td>003061230710</td>\n",
       "      <td>[003061230710_80047544_other documents_978-1-0...</td>\n",
       "      <td>[]</td>\n",
       "      <td></td>\n",
       "      <td>True</td>\n",
       "      <td>False</td>\n",
       "    </tr>\n",
       "    <tr>\n",
       "      <th>1095</th>\n",
       "      <td>003061230728</td>\n",
       "      <td>[003061230728_79408066_Master contract_978-0-1...</td>\n",
       "      <td>[003061230728_74076581_Amendments_978-0-14-763...</td>\n",
       "      <td>None attorney spend tend miss appear.</td>\n",
       "      <td>True</td>\n",
       "      <td>False</td>\n",
       "    </tr>\n",
       "    <tr>\n",
       "      <th>1096</th>\n",
       "      <td>003061230748</td>\n",
       "      <td>[003061230748_65193716_Contract Documents_978-...</td>\n",
       "      <td>[]</td>\n",
       "      <td></td>\n",
       "      <td>True</td>\n",
       "      <td>False</td>\n",
       "    </tr>\n",
       "    <tr>\n",
       "      <th>1097</th>\n",
       "      <td>003061230757</td>\n",
       "      <td>[003061230757_84690982_other documents_978-0-1...</td>\n",
       "      <td>[003061230757_72990476_Contract Documents_978-...</td>\n",
       "      <td>Determine go network.</td>\n",
       "      <td>False</td>\n",
       "      <td>False</td>\n",
       "    </tr>\n",
       "  </tbody>\n",
       "</table>\n",
       "</div>"
      ],
      "text/plain": [
       "             CaseId                                   InvalidFileNames  \\\n",
       "index                                                                    \n",
       "1093   003061230659  [003061230659_72651667_Order form_978-0-661-06...   \n",
       "1094   003061230710  [003061230710_80047544_other documents_978-1-0...   \n",
       "1095   003061230728  [003061230728_79408066_Master contract_978-0-1...   \n",
       "1096   003061230748  [003061230748_65193716_Contract Documents_978-...   \n",
       "1097   003061230757  [003061230757_84690982_other documents_978-0-1...   \n",
       "\n",
       "                                          ValidFileNames  \\\n",
       "index                                                      \n",
       "1093                                                  []   \n",
       "1094                                                  []   \n",
       "1095   [003061230728_74076581_Amendments_978-0-14-763...   \n",
       "1096                                                  []   \n",
       "1097   [003061230757_72990476_Contract Documents_978-...   \n",
       "\n",
       "                                     OcrText label_1 label_2  \n",
       "index                                                         \n",
       "1093                                            True   False  \n",
       "1094                                            True   False  \n",
       "1095   None attorney spend tend miss appear.    True   False  \n",
       "1096                                            True   False  \n",
       "1097                   Determine go network.   False   False  "
      ]
     },
     "execution_count": 10,
     "metadata": {},
     "output_type": "execute_result"
    }
   ],
   "source": [
    "new_df.tail()"
   ]
  },
  {
   "cell_type": "code",
   "execution_count": null,
   "metadata": {},
   "outputs": [],
   "source": []
  }
 ],
 "metadata": {
  "kernelspec": {
   "display_name": "Python 3",
   "language": "python",
   "name": "python3"
  },
  "language_info": {
   "codemirror_mode": {
    "name": "ipython",
    "version": 3
   },
   "file_extension": ".py",
   "mimetype": "text/x-python",
   "name": "python",
   "nbconvert_exporter": "python",
   "pygments_lexer": "ipython3",
   "version": "3.8.5"
  }
 },
 "nbformat": 4,
 "nbformat_minor": 4
}
